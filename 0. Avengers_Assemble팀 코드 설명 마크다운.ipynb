{
 "cells": [
  {
   "cell_type": "markdown",
   "metadata": {},
   "source": [
    "빅콘테스트 챔피언스리그 \n",
    "=================\n",
    "\n",
    "> ## 주제: 리니지 데이터로 유저의 이탈 시점 및 잔존가치 예측\n",
    "\n",
    "> ### 팀명: Avengers_Assemble\n",
    ">> #### 팀장: 노수돈\n",
    ">> #### 팀원: 김재민, 김재광, 임새란, 황인규\n",
    "\n",
    "\n",
    "\n",
    "Avengers_Assemble팀은 프로그램 코딩자료를 다음과 같이 분리하여 작성하였다.\n",
    "\n",
    "- 데이터 전처리: raw data(총 5개 파일)에 있는 변수 중 어떤 부분을 중점으로 분석할 것인지 선택 및 데이터 합치기\n",
    "- 데이터 분석1: 여러가지 분석기법을 활용하여 모델링 실시\n",
    "- 데이터 분석2: 어느정도의 성과가 나온 모델들을 활용하여 최적화 실시\n",
    "- 예측: 데이터 분석2에서 나온 모델을 활용하여 test1,2 데이터를 예측\n",
    "\n"
   ]
  },
  {
   "cell_type": "markdown",
   "metadata": {},
   "source": [
    "#### 첫 번째로, '__데이터 전처리__' 코드내용을 정리해보겠다.\n",
    "\n",
    "데이터 전처리가 있는 파일명은 '__all_file_merge__'이다.\n",
    "해당파일에도 주석으로 간단한 설명이 적혀있지만 이곳에서 조금더 다루도록 하겠다.\n",
    "\n",
    "> 1. 모듈 설치\n",
    "\n",
    "![모듈설치](http://dl.dropbox.com/s/s0wsbzn59kbzgug/%EC%A0%84%EC%B2%98%EB%A6%AC1.PNG \"모듈설치\")\n",
    "\n",
    "가장 먼저, 주어진 csv데이터를 불러오기 위하여 pandas모듈을 설치한다.\n",
    "\n",
    "\n",
    "> 2. 각 데이터 불러오기 및 그룹화\n",
    "\n",
    "\n",
    "    > 2.1 Label 데이터 불러오기\n",
    "\n",
    "![데이터불러오기1](http://dl.dropbox.com/s/q1dbnhfyw9u67g3/%EC%A0%84%EC%B2%98%EB%A6%AC2.PNG \"데이터불러오기1\")\n",
    "\n",
    " 첫번째로, 타겟 데이터가 담겨있는 label데이터를 불러온다. label데이터의 경우 유저아이디를 기준으로 총 40000개의 데이터가 있다.\n",
    "\n",
    "우리는 이 label데이터의 __유저아이디__ 를 기준으로 다른 데이터와 합치려고 한다.\n",
    "\n",
    "\n",
    "    > 2.2 activity 데이터 불러오기\n",
    "\n",
    "![데이터불러오기2](http://dl.dropbox.com/s/ax2jp5glpn52fup/%EC%A0%84%EC%B2%98%EB%A6%AC3.PNG \"데이터불러오기2\")\n",
    "\n",
    " 두번째로, activity 데이터를 불러온다. activity 데이터부터는 label 데이터의 유저아이디와 합칠 때 갯수를 통일 시키기 위해서 그룹화를 실시한다.\n",
    "\n",
    "activity 데이터의 경우 acc_id로 그룹화를 하였으며, 그룹화를 할때 값들의 합계인 sum()함수를 사용하였는데, \n",
    "\n",
    "이것은 게임을 28일동안 쭉 들어오면서 조금씩 게임을 한사람과, 3일동안 많은 시간을 게임에 쓴 사람의 총 플레이시간이 3일 유저보다 28일 유저가 높을지라도 평균으로 구할 경우, 3일 유저가 더 높게 나오는 경우가 있었기 때문에 이를 방지하기 위함이었다.\n",
    "\n",
    "추가로 그룹화를 하면서 쓸 수 없는 변수가 된 'day, char_id'는 drop하였다.\n",
    "\n",
    "\n",
    "    > 2.3 combat 데이터 불러오기\n",
    "\n",
    "![데이터불러오기3](http://dl.dropbox.com/s/qfi4lijcv35w7pt/%EC%A0%84%EC%B2%98%EB%A6%AC4.PNG \"데이터불러오기3\")\n",
    "\n",
    " 세번째로, combat 데이터의 경우도 마찬가지로 acc_id로 그룹화를 실시할때, 사용할 수가 없게 되는 'day, server, char_id, class'등을 drop하였고, 각 유저의 가장 높은 레벨은 유의미할 것이라고 판단하여 combat_a와 combat_b로 나누어 그룹화를 한 후, 다시 combat데이터로 합쳤다.\n",
    "\n",
    "\n",
    "    > 2.4 payment 데이터 불러오기\n",
    "\n",
    "![데이터불러오기4](http://dl.dropbox.com/s/cvbwkfvvtzxyuqj/%EC%A0%84%EC%B2%98%EB%A6%AC5.PNG \"데이터불러오기4\")\n",
    "\n",
    " 네번째로, payment 데이터는 앞선 데이터와 마찬가지로 acc_id로 그룹화를 하면서 쓸모없게된 'day'를 drop하고, label데이터의 amount_spent변수와 같은 이름의 변수가 있기 때문에 rename함수를 사용하여 변수 이름을 'amount_spent_pay'로 변환하였다.\n",
    "\n",
    "\n",
    "    > 2.5 trade 데이터 불러오기\n",
    "\n",
    "![데이터불러오기5](http://dl.dropbox.com/s/pf7d7zs6t7c54q6/%EC%A0%84%EC%B2%98%EB%A6%AC6.PNG \"데이터불러오기5\")\n",
    "\n",
    " 다섯째로, trade 데이터의 경우에는 'acc_id'가 판매자의 아이디인 'source_acc_id'와 구매자의 아이디인 'target_acc_id'으로 나누어져 있어서 이것을 각각 판매와 구매 활동을 한 횟수로 파악하기 위해 trade_a와 trade_b로 나누어 그룹화를 실시하고 그 두 데이터를 다시 하나의 데이터 셋인 trade로 합쳤다.\n",
    "\n",
    "\n",
    "    > 2.6 pledge 데이터 불러오기\n",
    "\n",
    "![데이터불러오기6](http://dl.dropbox.com/s/e5vghku51pvbf0l/%EC%A0%84%EC%B2%98%EB%A6%AC7.PNG \"데이터불러오기6\")\n",
    "\n",
    " 마지막으로, pledge 데이터의 경우, server와 pledge_id가 해당 데이터 셋에서 데이터들을 구분하는데 중요한 변수라고 판단하여, 우선적으로 'ple_1'라는 데이터 셋에 해당 데이터의 값이 들어가도록 만들고, 새로운 'ple_a'라는 데이터셋에 'acc_id, char_id, server, pledge_id'등을 기준으로 그룹화를 실시하고, 만들어진 두개의 데이터 셋을 합쳐 pledge 데이터 셋을 만들었다. 그리고 이제 더이상 필요없게 된 'char_id, server, pledge_id'등을 삭제하고, 최종적으로 acc_id로 다시 한번 그롭화하여 pledge_total 데이터 셋을 생성했다.\n",
    "\n",
    "\n",
    "> 3. 그룹화한 데이터들을 하나로 합치기\n",
    "\n",
    "![데이터 합치기](http://dl.dropbox.com/s/byfngxljtml0ual/%EC%A0%84%EC%B2%98%EB%A6%AC8.PNG \"데이터 합치기\")\n",
    "\n",
    "앞서 만들었던 데이터 셋들을 모두 합치는 코드이다. 해당 코드에서는 이미 데이터셋의 크기를 label의 크기와 일치하도록 40000개로 정리 한 상태이기 때문에 how='outer' 옵션을 부여했으나, 후에 테스트 데이터를 합치는 코드에서는 how='left' 옵션을 줄것이다.\n",
    "\n",
    "앞으로 분석과 예측에 사용될 대부분 파일은 이렇게 합쳐서 저장한 'all_merge_file'로 하게 될 것이다. 특히, 가장 성능이 좋았던 모델은 이 파일로 분석 및 예측하였다."
   ]
  },
  {
   "cell_type": "markdown",
   "metadata": {},
   "source": [
    "#### 두 번째로, '__데이터 분석1__' 코드내용을 정리해보겠다.\n",
    "\n",
    " 데이터 분석1이 있는 파일명은 '__multiLinear-ToRac.ipynb__'와 '__결정트리( 파일1+payment + label).ipynb__', '__결정트리( 파일1개 + label ).ipynb__'이다.\n",
    "\n",
    " 데이터 분석1은 아쉽게도 성과가 크지 않았던 모델들의 일부를 모아놓은 것으로 survival_time 값을 생존(64일)과 비생존(1~63일)로 나누어 예측을 1차적으로 해보려고 했던 코드들과, amount_spent를 예측하기 위해 했던 코드 등이 있다.\n",
    " "
   ]
  },
  {
   "cell_type": "markdown",
   "metadata": {},
   "source": [
    "> multiLinear-ToRac은 amount_spent를 예측하고자 했던 파일이다.\n",
    "\n",
    "먼저, 모듈과 데이터를 불러온 후,\n",
    "![multiLinear-ToRac1](http://dl.dropbox.com/s/rlsq5niimg9292i/multiLinear-ToRac1.PNG \"multiLinear-ToRac1\")"
   ]
  },
  {
   "cell_type": "markdown",
   "metadata": {},
   "source": [
    "전처리로 이상치 제거를 하기 위하여 sklearn의 EllipticEnvelope 함수를 사용하였다.\n",
    "![multiLinear-ToRac2](http://dl.dropbox.com/s/vuwor2d10hjmazo/multiLinear-ToRac2.PNG \"multiLinear-ToRac2\")"
   ]
  },
  {
   "cell_type": "markdown",
   "metadata": {},
   "source": [
    "EllipticEnvelope 함수에 들어가는 contamination=.1 옵션은 데이터에서 외곽 10%에 해당하는 데이터들을 체크 한다는 것으로,\n",
    "![multiLinear-ToRac3](http://dl.dropbox.com/s/gah7xtpa8igxqx8/multiLinear-ToRac3.PNG \"multiLinear-ToRac3\")\n",
    "위의 count() 함수의 일부 결과를 보면 train데이터의 40000개의 데이터 중 10%를 제외한 36000개의 데이터가 남은 것을 볼 수있다."
   ]
  },
  {
   "cell_type": "markdown",
   "metadata": {},
   "source": [
    "전처리를 한 후, 학습 데이터와 테스트 데이터로 나누었다. 코드는 다음과 같다.\n",
    "![multiLinear-ToRac4](http://dl.dropbox.com/s/kdk1jeyeasfetrs/multiLinear-ToRac4.PNG \"multiLinear-ToRac4\")"
   ]
  },
  {
   "cell_type": "markdown",
   "metadata": {},
   "source": [
    "그 후, multi variable linear regression 모델을 적용하는데, 텐서플로를 사용하여 프로그래밍하였다.\n",
    "![multiLinear-ToRac5](http://dl.dropbox.com/s/o77v2wp7e3nv0hd/multiLinear-ToRac5.PNG \"multiLinear-ToRac5\")\n",
    "![multiLinear-ToRac6](http://dl.dropbox.com/s/xftc0ib527vrgax/multiLinear-ToRac6.PNG \"multiLinear-ToRac6\")"
   ]
  },
  {
   "cell_type": "markdown",
   "metadata": {},
   "source": [
    "> __결정트리( 파일1개 + label )__ 와 __결정트리( 파일1 + payment + label)__ 은 survival_time를 생존/비생존으로 나누어 DecisionTree모델을 활용하여 예측하고자 했던 파일이다.\n",
    "\n",
    " 사실 두 파일의 코드는 거의 흡사하므로 '결정트리( 파일1개 + label )'에서 반복되는 부분을 제외하고 설명하겠다.\n",
    "\n",
    " 1. 사용할 패키지와 label데이터와 합칠 데이터를 불러온다. \n",
    " ![결정트리1](http://dl.dropbox.com/s/yi2ul36k9p7niy7/%EA%B2%B0%EC%A0%95%ED%8A%B8%EB%A6%AC%28%20%ED%8C%8C%EC%9D%BC1%EA%B0%9C%20%2B%20label%20%29_1.PNG \"결정트리1\")\n",
    " \n",
    " 2. label데이터와 합치기 위해 그룹화를 하고 merge를 통해 label과 파일을 합친다.\n",
    " ![결정트리2](http://dl.dropbox.com/s/2pqoxvqgosnb65r/%EA%B2%B0%EC%A0%95%ED%8A%B8%EB%A6%AC%28%20%ED%8C%8C%EC%9D%BC1%EA%B0%9C%20%2B%20label%20%29_2.PNG \"결정트리2\")\n",
    " \n",
    " 3. 합쳐진 데이터 셋을 DecisionTree모델을 사용해보기 위해 학습 데이터와 테스트 데이터로 나눈다.\n",
    " ![결정트리3](http://dl.dropbox.com/s/l88elx1hea1i221/%EA%B2%B0%EC%A0%95%ED%8A%B8%EB%A6%AC%28%20%ED%8C%8C%EC%9D%BC1%EA%B0%9C%20%2B%20label%20%29_3.PNG \"결정트리3\")\n",
    " \n",
    " 4. DecisionTree모델을 사용하여 모델의 예측력을 확인한다.\n",
    " ![결정트리4](http://dl.dropbox.com/s/urgf33owcqcq7lo/%EA%B2%B0%EC%A0%95%ED%8A%B8%EB%A6%AC%28%20%ED%8C%8C%EC%9D%BC1%EA%B0%9C%20%2B%20label%20%29_4.PNG \"결정트리4\")\n",
    " \n",
    " 5. 이 코드로는 만들어진 DecisionTree모델을 시각화 하여 어떠한 기준으로 나뉘었는지를 확인 할 수 있다.\n",
    " ![결정트리5](http://dl.dropbox.com/s/n70s0oaf9geovg7/%EA%B2%B0%EC%A0%95%ED%8A%B8%EB%A6%AC%28%20%ED%8C%8C%EC%9D%BC1%EA%B0%9C%20%2B%20label%20%29_5.PNG \"결정트리5\")\n",
    " "
   ]
  },
  {
   "cell_type": "markdown",
   "metadata": {},
   "source": [
    "#### 세 번째로, '__데이터 분석2__' 코드내용을 정리해보겠다.\n",
    "\n",
    " 데이터 분석2이 있는 파일명은 '__결정트리&랜덤포레스트.ipynb__'이다.\n",
    "\n",
    " 데이터 분석2은 만족스럽진 않았지만 그나마 성과가 있던던 파일로, 해당 파일의 코드를 주로 사용하여 test데이터를 예측하는데에 사용하였다. amount_spent의 경우에는 성과가 없는 수준이지만 우선 예측을 하여 제출하였다."
   ]
  },
  {
   "cell_type": "markdown",
   "metadata": {},
   "source": [
    "> survival_time에 대하여 예측하는 코드가 먼저 나오고, amount_spent에 대한 코드가 후에 나온다.\n",
    "\n",
    "> survival_time\n",
    "\n",
    "1. 모듈과 데이터를 불러온다.\n",
    "![결정트리&랜덤포레스트1](http://dl.dropbox.com/s/uodiqhyh7e1tlbd/%EA%B2%B0%EC%A0%95%ED%8A%B8%EB%A6%AC%26%EB%9E%9C%EB%8D%A4%ED%8F%AC%EB%A0%88%EC%8A%A4%ED%8A%B81.PNG \"결정트리&랜덤포레스트1\")\n",
    "\n",
    "2. 데이터를 생존과 과금 여부로 나누었다.\n",
    "![결정트리&랜덤포레스트2](http://dl.dropbox.com/s/6mpr17kok3kxe3o/%EA%B2%B0%EC%A0%95%ED%8A%B8%EB%A6%AC%26%EB%9E%9C%EB%8D%A4%ED%8F%AC%EB%A0%88%EC%8A%A4%ED%8A%B82.PNG \"결정트리&랜덤포레스트2\")\n",
    "\n",
    "3. 생존을 기준으로 0,1(생존, 비생존)로 나누어 전체 데이터를 기준으로 DecisionTree와 RandomForest Classifier모델을 적용시켜보기 위하여 데이터를 학습 데이터와 테스트데이터로 나누고 모델을 학습 시키고 성과에 대하여 평가해보았다.\n",
    "![결정트리&랜덤포레스트3](http://dl.dropbox.com/s/k40ih6fxq42eg0g/%EA%B2%B0%EC%A0%95%ED%8A%B8%EB%A6%AC%26%EB%9E%9C%EB%8D%A4%ED%8F%AC%EB%A0%88%EC%8A%A4%ED%8A%B83.PNG \"결정트리&랜덤포레스트3\")\n",
    "![결정트리&랜덤포레스트4](http://dl.dropbox.com/s/yom3mi6vf82t6pa/%EA%B2%B0%EC%A0%95%ED%8A%B8%EB%A6%AC%26%EB%9E%9C%EB%8D%A4%ED%8F%AC%EB%A0%88%EC%8A%A4%ED%8A%B84.PNG \"결정트리&랜덤포레스트4\")\n",
    "\n",
    "결과적으로, 0,1로만 나누는 것인데도 불구하고 예측력이 70%가 안되는 것으로 보아 해당 모델은 사용하는 의미가 없다고 볼 수 있다.\n",
    "\n",
    "4. 이번에는 데이터 전체가 합쳐진 데이터 셋으로 1~64일을 한꺼번에 구별하고 예측하는 RandomForest Classifier 모델을 사용해 보았다.\n",
    "![결정트리&랜덤포레스트5](http://dl.dropbox.com/s/ypprk34brauhewo/%EA%B2%B0%EC%A0%95%ED%8A%B8%EB%A6%AC%26%EB%9E%9C%EB%8D%A4%ED%8F%AC%EB%A0%88%EC%8A%A4%ED%8A%B85.PNG \"결정트리&랜덤포레스트5\")\n",
    "![결정트리&랜덤포레스트6](http://dl.dropbox.com/s/6f2u8h8hyvcpeeg/%EA%B2%B0%EC%A0%95%ED%8A%B8%EB%A6%AC%26%EB%9E%9C%EB%8D%A4%ED%8F%AC%EB%A0%88%EC%8A%A4%ED%8A%B86.PNG \"결정트리&랜덤포레스트6\")"
   ]
  },
  {
   "cell_type": "markdown",
   "metadata": {},
   "source": [
    "> amount_spent\n",
    "\n",
    "1. 모듈을 불러오고, 과금여부로 인원을 나누어 여태까지 했던 방식으로 데이터를 정리한다.\n",
    "![amount_spent1](https://dl.dropbox.com/s/pna1s5ce31yejty/amount_%EA%B2%B0%EC%A0%95%ED%8A%B8%EB%A6%AC%26%EB%9E%9C%EB%8D%A4%ED%8F%AC%EB%A0%88%EC%8A%A4%ED%8A%B81.PNG \"amount_spent1\")\n",
    "\n",
    "2. 데이터의 타겟 변수를 과금여부로 하여 학습 데이터와 테스트데이터로 나누고 RandomForest Classifier모델을 학습 시키고 성과에 대하여 평가해보았다.\n",
    "![amount_spent2](https://dl.dropbox.com/s/csqynl9khkrl39b/amount_%EA%B2%B0%EC%A0%95%ED%8A%B8%EB%A6%AC%26%EB%9E%9C%EB%8D%A4%ED%8F%AC%EB%A0%88%EC%8A%A4%ED%8A%B82.PNG \"amount_spent2\")\n",
    "![amount_spent3](https://dl.dropbox.com/s/f3fgh92710n2yqz/amount_%EA%B2%B0%EC%A0%95%ED%8A%B8%EB%A6%AC%26%EB%9E%9C%EB%8D%A4%ED%8F%AC%EB%A0%88%EC%8A%A4%ED%8A%B83.PNG \"amount_spent3\")\n",
    "\n"
   ]
  },
  {
   "cell_type": "markdown",
   "metadata": {},
   "source": [
    "3. 위의 모델에서 85%라는 준수한 성능이 나왔으므로, 이 중에서 과금 유저들의 목록을 따로 빼서 그 유저들에 대해서 RandomForest Regressor 모델을 적용 시켜 볼 것이다.\n",
    "\n",
    "![amount_spent4](https://dl.dropbox.com/s/m34x4ja982izwto/amount_%EA%B2%B0%EC%A0%95%ED%8A%B8%EB%A6%AC%26%EB%9E%9C%EB%8D%A4%ED%8F%AC%EB%A0%88%EC%8A%A4%ED%8A%B84.PNG \"amount_spent4\")\n",
    "![amount_spent5](https://dl.dropbox.com/s/r02u5eapfz8lqji/amount_%EA%B2%B0%EC%A0%95%ED%8A%B8%EB%A6%AC%26%EB%9E%9C%EB%8D%A4%ED%8F%AC%EB%A0%88%EC%8A%A4%ED%8A%B85.PNG \"amount_spent5\")\n",
    "![amount_spent6](https://dl.dropbox.com/s/gjc1msyfpzs54b4/amount_%EA%B2%B0%EC%A0%95%ED%8A%B8%EB%A6%AC%26%EB%9E%9C%EB%8D%A4%ED%8F%AC%EB%A0%88%EC%8A%A4%ED%8A%B86.PNG \"amount_spent6\")\n",
    "\n",
    "테스트 결과 모델의 성능은 처참하다. 그러나 amount_spent에 대해서는 시간도 너무 부족하여 추가로 실시하지 못하고 이 코드로 제출을 하게되었다."
   ]
  },
  {
   "cell_type": "markdown",
   "metadata": {},
   "source": [
    "### 마지막으로, '__예측__' 코드내용을 정리해보겠다.\n",
    "\n",
    "예측이 있는 파일명은 '__서바이벌 랜덤포레스트.ipynb__'이다.\n",
    "\n",
    "예측에서 사용된 대부분의 코드는 바로 위에서 설명한 '결정트리&랜덤포레스트.ipynb'에서 거의 대부분이 설명이 되었기 때문에 데이터를 합치는 부분과 파일을 제출하는 부분만 언급 하도록 하겠다.\n"
   ]
  },
  {
   "cell_type": "markdown",
   "metadata": {},
   "source": [
    "1. 데이터를 합치는 부분에서 달라진 부분은 처음에도 한번 언급하였던 바와 같이 how옵션이 바뀌었다는 점이다. \n",
    "![예측코드1](http://dl.dropbox.com/s/14gsjiw3slrzlgi/%EC%98%88%EC%B8%A11.PNG \"예측코드\")\n",
    "![예측코드2](http://dl.dropbox.com/s/7rvlixf34y2kbmw/%EC%98%88%EC%B8%A12.PNG \"예측코드\")\n",
    "\n",
    "2. 그리고 결정트리&랜덤포레스트 파일에서 언급되었던 모델들을 학습시켜둔 상태로 test1과 test2를 각각 학습시키고 csv 파일로 내보내는 코드이다.\n",
    "![예측코드3](http://dl.dropbox.com/s/pexiraey9ne123t/%EC%98%88%EC%B8%A13.PNG \"예측코드\")"
   ]
  },
  {
   "cell_type": "code",
   "execution_count": null,
   "metadata": {},
   "outputs": [],
   "source": []
  }
 ],
 "metadata": {
  "kernelspec": {
   "display_name": "Python 3",
   "language": "python",
   "name": "python3"
  },
  "language_info": {
   "codemirror_mode": {
    "name": "ipython",
    "version": 3
   },
   "file_extension": ".py",
   "mimetype": "text/x-python",
   "name": "python",
   "nbconvert_exporter": "python",
   "pygments_lexer": "ipython3",
   "version": "3.7.1"
  }
 },
 "nbformat": 4,
 "nbformat_minor": 2
}
