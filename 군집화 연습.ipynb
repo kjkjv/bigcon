{
 "cells": [
  {
   "cell_type": "code",
   "execution_count": 2,
   "metadata": {},
   "outputs": [],
   "source": [
    "import numpy as np\n",
    "import pandas as pd"
   ]
  },
  {
   "cell_type": "code",
   "execution_count": 3,
   "metadata": {},
   "outputs": [],
   "source": [
    "label_df = pd.read_csv('C:/Users/CPB06GameN/Desktop/빅콘/2019_빅콘테스트_챔피언스리그_데이터/train_label.csv')"
   ]
  },
  {
   "cell_type": "code",
   "execution_count": 4,
   "metadata": {},
   "outputs": [
    {
     "data": {
      "text/html": [
       "<div>\n",
       "<style scoped>\n",
       "    .dataframe tbody tr th:only-of-type {\n",
       "        vertical-align: middle;\n",
       "    }\n",
       "\n",
       "    .dataframe tbody tr th {\n",
       "        vertical-align: top;\n",
       "    }\n",
       "\n",
       "    .dataframe thead th {\n",
       "        text-align: right;\n",
       "    }\n",
       "</style>\n",
       "<table border=\"1\" class=\"dataframe\">\n",
       "  <thead>\n",
       "    <tr style=\"text-align: right;\">\n",
       "      <th></th>\n",
       "      <th>acc_id</th>\n",
       "      <th>survival_time</th>\n",
       "      <th>amount_spent</th>\n",
       "    </tr>\n",
       "  </thead>\n",
       "  <tbody>\n",
       "    <tr>\n",
       "      <th>39995</th>\n",
       "      <td>13809</td>\n",
       "      <td>64</td>\n",
       "      <td>0.302485</td>\n",
       "    </tr>\n",
       "    <tr>\n",
       "      <th>39996</th>\n",
       "      <td>83195</td>\n",
       "      <td>64</td>\n",
       "      <td>0.005119</td>\n",
       "    </tr>\n",
       "    <tr>\n",
       "      <th>39997</th>\n",
       "      <td>17325</td>\n",
       "      <td>64</td>\n",
       "      <td>0.047182</td>\n",
       "    </tr>\n",
       "    <tr>\n",
       "      <th>39998</th>\n",
       "      <td>99716</td>\n",
       "      <td>39</td>\n",
       "      <td>0.000000</td>\n",
       "    </tr>\n",
       "    <tr>\n",
       "      <th>39999</th>\n",
       "      <td>27258</td>\n",
       "      <td>64</td>\n",
       "      <td>0.006661</td>\n",
       "    </tr>\n",
       "  </tbody>\n",
       "</table>\n",
       "</div>"
      ],
      "text/plain": [
       "       acc_id  survival_time  amount_spent\n",
       "39995   13809             64      0.302485\n",
       "39996   83195             64      0.005119\n",
       "39997   17325             64      0.047182\n",
       "39998   99716             39      0.000000\n",
       "39999   27258             64      0.006661"
      ]
     },
     "execution_count": 4,
     "metadata": {},
     "output_type": "execute_result"
    }
   ],
   "source": [
    "label_df.tail()"
   ]
  },
  {
   "cell_type": "markdown",
   "metadata": {},
   "source": [
    "##### 임의의 데이터 5개를 군집화 "
   ]
  },
  {
   "cell_type": "code",
   "execution_count": 5,
   "metadata": {},
   "outputs": [],
   "source": [
    "import pandas as pd\n",
    "import matplotlib.pyplot as plt\n",
    "import numpy as np\n",
    "from sklearn.cluster import KMeans\n",
    "import seaborn as sns"
   ]
  },
  {
   "cell_type": "code",
   "execution_count": 6,
   "metadata": {},
   "outputs": [],
   "source": [
    "activity_df = pd.read_csv('C:/Users/CPB06GameN/Desktop/빅콘/2019_빅콘테스트_챔피언스리그_데이터/train_activity.csv')"
   ]
  },
  {
   "cell_type": "code",
   "execution_count": 7,
   "metadata": {},
   "outputs": [
    {
     "data": {
      "text/html": [
       "<div>\n",
       "<style scoped>\n",
       "    .dataframe tbody tr th:only-of-type {\n",
       "        vertical-align: middle;\n",
       "    }\n",
       "\n",
       "    .dataframe tbody tr th {\n",
       "        vertical-align: top;\n",
       "    }\n",
       "\n",
       "    .dataframe thead th {\n",
       "        text-align: right;\n",
       "    }\n",
       "</style>\n",
       "<table border=\"1\" class=\"dataframe\">\n",
       "  <thead>\n",
       "    <tr style=\"text-align: right;\">\n",
       "      <th></th>\n",
       "      <th>day</th>\n",
       "      <th>acc_id</th>\n",
       "      <th>char_id</th>\n",
       "      <th>server</th>\n",
       "      <th>playtime</th>\n",
       "      <th>npc_kill</th>\n",
       "      <th>solo_exp</th>\n",
       "      <th>party_exp</th>\n",
       "      <th>quest_exp</th>\n",
       "      <th>boss_monster</th>\n",
       "      <th>death</th>\n",
       "      <th>revive</th>\n",
       "      <th>exp_recovery</th>\n",
       "      <th>fishing</th>\n",
       "      <th>private_shop</th>\n",
       "      <th>game_money_change</th>\n",
       "      <th>enchant_count</th>\n",
       "    </tr>\n",
       "  </thead>\n",
       "  <tbody>\n",
       "    <tr>\n",
       "      <th>1594668</th>\n",
       "      <td>28</td>\n",
       "      <td>49021</td>\n",
       "      <td>109142</td>\n",
       "      <td>bs</td>\n",
       "      <td>1.163729</td>\n",
       "      <td>0.0</td>\n",
       "      <td>0.0</td>\n",
       "      <td>0.0</td>\n",
       "      <td>0.0</td>\n",
       "      <td>0</td>\n",
       "      <td>0.24537</td>\n",
       "      <td>0.246819</td>\n",
       "      <td>0.0</td>\n",
       "      <td>0.0</td>\n",
       "      <td>0.0</td>\n",
       "      <td>0.000246</td>\n",
       "      <td>0.0</td>\n",
       "    </tr>\n",
       "    <tr>\n",
       "      <th>1594669</th>\n",
       "      <td>28</td>\n",
       "      <td>54844</td>\n",
       "      <td>117439</td>\n",
       "      <td>bs</td>\n",
       "      <td>1.147138</td>\n",
       "      <td>0.0</td>\n",
       "      <td>0.0</td>\n",
       "      <td>0.0</td>\n",
       "      <td>0.0</td>\n",
       "      <td>0</td>\n",
       "      <td>0.24537</td>\n",
       "      <td>0.246819</td>\n",
       "      <td>0.0</td>\n",
       "      <td>0.0</td>\n",
       "      <td>0.0</td>\n",
       "      <td>-0.000307</td>\n",
       "      <td>0.0</td>\n",
       "    </tr>\n",
       "    <tr>\n",
       "      <th>1594670</th>\n",
       "      <td>28</td>\n",
       "      <td>60388</td>\n",
       "      <td>78905</td>\n",
       "      <td>bs</td>\n",
       "      <td>1.151879</td>\n",
       "      <td>0.0</td>\n",
       "      <td>0.0</td>\n",
       "      <td>0.0</td>\n",
       "      <td>0.0</td>\n",
       "      <td>0</td>\n",
       "      <td>0.24537</td>\n",
       "      <td>0.246819</td>\n",
       "      <td>0.0</td>\n",
       "      <td>0.0</td>\n",
       "      <td>0.0</td>\n",
       "      <td>-0.003663</td>\n",
       "      <td>0.0</td>\n",
       "    </tr>\n",
       "    <tr>\n",
       "      <th>1594671</th>\n",
       "      <td>28</td>\n",
       "      <td>72319</td>\n",
       "      <td>196592</td>\n",
       "      <td>bs</td>\n",
       "      <td>1.156619</td>\n",
       "      <td>0.0</td>\n",
       "      <td>0.0</td>\n",
       "      <td>0.0</td>\n",
       "      <td>0.0</td>\n",
       "      <td>0</td>\n",
       "      <td>0.49074</td>\n",
       "      <td>0.493639</td>\n",
       "      <td>0.0</td>\n",
       "      <td>0.0</td>\n",
       "      <td>0.0</td>\n",
       "      <td>-0.001999</td>\n",
       "      <td>0.0</td>\n",
       "    </tr>\n",
       "    <tr>\n",
       "      <th>1594672</th>\n",
       "      <td>28</td>\n",
       "      <td>73739</td>\n",
       "      <td>383802</td>\n",
       "      <td>bs</td>\n",
       "      <td>1.140028</td>\n",
       "      <td>0.0</td>\n",
       "      <td>0.0</td>\n",
       "      <td>0.0</td>\n",
       "      <td>0.0</td>\n",
       "      <td>0</td>\n",
       "      <td>0.49074</td>\n",
       "      <td>0.493639</td>\n",
       "      <td>0.0</td>\n",
       "      <td>0.0</td>\n",
       "      <td>0.0</td>\n",
       "      <td>0.001129</td>\n",
       "      <td>0.0</td>\n",
       "    </tr>\n",
       "  </tbody>\n",
       "</table>\n",
       "</div>"
      ],
      "text/plain": [
       "         day  acc_id  char_id server  playtime  npc_kill  solo_exp  party_exp  \\\n",
       "1594668   28   49021   109142     bs  1.163729       0.0       0.0        0.0   \n",
       "1594669   28   54844   117439     bs  1.147138       0.0       0.0        0.0   \n",
       "1594670   28   60388    78905     bs  1.151879       0.0       0.0        0.0   \n",
       "1594671   28   72319   196592     bs  1.156619       0.0       0.0        0.0   \n",
       "1594672   28   73739   383802     bs  1.140028       0.0       0.0        0.0   \n",
       "\n",
       "         quest_exp  boss_monster    death    revive  exp_recovery  fishing  \\\n",
       "1594668        0.0             0  0.24537  0.246819           0.0      0.0   \n",
       "1594669        0.0             0  0.24537  0.246819           0.0      0.0   \n",
       "1594670        0.0             0  0.24537  0.246819           0.0      0.0   \n",
       "1594671        0.0             0  0.49074  0.493639           0.0      0.0   \n",
       "1594672        0.0             0  0.49074  0.493639           0.0      0.0   \n",
       "\n",
       "         private_shop  game_money_change  enchant_count  \n",
       "1594668           0.0           0.000246            0.0  \n",
       "1594669           0.0          -0.000307            0.0  \n",
       "1594670           0.0          -0.003663            0.0  \n",
       "1594671           0.0          -0.001999            0.0  \n",
       "1594672           0.0           0.001129            0.0  "
      ]
     },
     "execution_count": 7,
     "metadata": {},
     "output_type": "execute_result"
    }
   ],
   "source": [
    "activity_df.tail()"
   ]
  },
  {
   "cell_type": "markdown",
   "metadata": {},
   "source": [
    "##### 필요없는 컬럼 삭제"
   ]
  },
  {
   "cell_type": "code",
   "execution_count": 8,
   "metadata": {},
   "outputs": [],
   "source": [
    "activity_df2=activity_df.drop(columns=['boss_monster','exp_recovery','server','day','char_id','solo_exp','party_exp','quest_exp','death','revive','enchant_count'])"
   ]
  },
  {
   "cell_type": "code",
   "execution_count": 9,
   "metadata": {},
   "outputs": [
    {
     "data": {
      "text/html": [
       "<div>\n",
       "<style scoped>\n",
       "    .dataframe tbody tr th:only-of-type {\n",
       "        vertical-align: middle;\n",
       "    }\n",
       "\n",
       "    .dataframe tbody tr th {\n",
       "        vertical-align: top;\n",
       "    }\n",
       "\n",
       "    .dataframe thead th {\n",
       "        text-align: right;\n",
       "    }\n",
       "</style>\n",
       "<table border=\"1\" class=\"dataframe\">\n",
       "  <thead>\n",
       "    <tr style=\"text-align: right;\">\n",
       "      <th></th>\n",
       "      <th>acc_id</th>\n",
       "      <th>playtime</th>\n",
       "      <th>npc_kill</th>\n",
       "      <th>fishing</th>\n",
       "      <th>private_shop</th>\n",
       "      <th>game_money_change</th>\n",
       "    </tr>\n",
       "  </thead>\n",
       "  <tbody>\n",
       "    <tr>\n",
       "      <th>1594668</th>\n",
       "      <td>49021</td>\n",
       "      <td>1.163729</td>\n",
       "      <td>0.0</td>\n",
       "      <td>0.0</td>\n",
       "      <td>0.0</td>\n",
       "      <td>0.000246</td>\n",
       "    </tr>\n",
       "    <tr>\n",
       "      <th>1594669</th>\n",
       "      <td>54844</td>\n",
       "      <td>1.147138</td>\n",
       "      <td>0.0</td>\n",
       "      <td>0.0</td>\n",
       "      <td>0.0</td>\n",
       "      <td>-0.000307</td>\n",
       "    </tr>\n",
       "    <tr>\n",
       "      <th>1594670</th>\n",
       "      <td>60388</td>\n",
       "      <td>1.151879</td>\n",
       "      <td>0.0</td>\n",
       "      <td>0.0</td>\n",
       "      <td>0.0</td>\n",
       "      <td>-0.003663</td>\n",
       "    </tr>\n",
       "    <tr>\n",
       "      <th>1594671</th>\n",
       "      <td>72319</td>\n",
       "      <td>1.156619</td>\n",
       "      <td>0.0</td>\n",
       "      <td>0.0</td>\n",
       "      <td>0.0</td>\n",
       "      <td>-0.001999</td>\n",
       "    </tr>\n",
       "    <tr>\n",
       "      <th>1594672</th>\n",
       "      <td>73739</td>\n",
       "      <td>1.140028</td>\n",
       "      <td>0.0</td>\n",
       "      <td>0.0</td>\n",
       "      <td>0.0</td>\n",
       "      <td>0.001129</td>\n",
       "    </tr>\n",
       "  </tbody>\n",
       "</table>\n",
       "</div>"
      ],
      "text/plain": [
       "         acc_id  playtime  npc_kill  fishing  private_shop  game_money_change\n",
       "1594668   49021  1.163729       0.0      0.0           0.0           0.000246\n",
       "1594669   54844  1.147138       0.0      0.0           0.0          -0.000307\n",
       "1594670   60388  1.151879       0.0      0.0           0.0          -0.003663\n",
       "1594671   72319  1.156619       0.0      0.0           0.0          -0.001999\n",
       "1594672   73739  1.140028       0.0      0.0           0.0           0.001129"
      ]
     },
     "execution_count": 9,
     "metadata": {},
     "output_type": "execute_result"
    }
   ],
   "source": [
    "activity_df2.tail()"
   ]
  },
  {
   "cell_type": "markdown",
   "metadata": {},
   "source": [
    "##### label 파일과 merge"
   ]
  },
  {
   "cell_type": "code",
   "execution_count": 10,
   "metadata": {},
   "outputs": [],
   "source": [
    "act_lab_df=pd.merge(label_df,activity_df2,how='inner',on='acc_id')"
   ]
  },
  {
   "cell_type": "code",
   "execution_count": 11,
   "metadata": {},
   "outputs": [
    {
     "data": {
      "text/html": [
       "<div>\n",
       "<style scoped>\n",
       "    .dataframe tbody tr th:only-of-type {\n",
       "        vertical-align: middle;\n",
       "    }\n",
       "\n",
       "    .dataframe tbody tr th {\n",
       "        vertical-align: top;\n",
       "    }\n",
       "\n",
       "    .dataframe thead th {\n",
       "        text-align: right;\n",
       "    }\n",
       "</style>\n",
       "<table border=\"1\" class=\"dataframe\">\n",
       "  <thead>\n",
       "    <tr style=\"text-align: right;\">\n",
       "      <th></th>\n",
       "      <th>acc_id</th>\n",
       "      <th>survival_time</th>\n",
       "      <th>amount_spent</th>\n",
       "      <th>playtime</th>\n",
       "      <th>npc_kill</th>\n",
       "      <th>fishing</th>\n",
       "      <th>private_shop</th>\n",
       "      <th>game_money_change</th>\n",
       "    </tr>\n",
       "  </thead>\n",
       "  <tbody>\n",
       "    <tr>\n",
       "      <th>1594668</th>\n",
       "      <td>27258</td>\n",
       "      <td>64</td>\n",
       "      <td>0.006661</td>\n",
       "      <td>0.151688</td>\n",
       "      <td>0.242910</td>\n",
       "      <td>0.0</td>\n",
       "      <td>0.0</td>\n",
       "      <td>-0.001794</td>\n",
       "    </tr>\n",
       "    <tr>\n",
       "      <th>1594669</th>\n",
       "      <td>27258</td>\n",
       "      <td>64</td>\n",
       "      <td>0.006661</td>\n",
       "      <td>0.149318</td>\n",
       "      <td>0.187243</td>\n",
       "      <td>0.0</td>\n",
       "      <td>0.0</td>\n",
       "      <td>0.000964</td>\n",
       "    </tr>\n",
       "    <tr>\n",
       "      <th>1594670</th>\n",
       "      <td>27258</td>\n",
       "      <td>64</td>\n",
       "      <td>0.006661</td>\n",
       "      <td>0.007110</td>\n",
       "      <td>0.000000</td>\n",
       "      <td>0.0</td>\n",
       "      <td>0.0</td>\n",
       "      <td>-0.000142</td>\n",
       "    </tr>\n",
       "    <tr>\n",
       "      <th>1594671</th>\n",
       "      <td>27258</td>\n",
       "      <td>64</td>\n",
       "      <td>0.006661</td>\n",
       "      <td>0.158798</td>\n",
       "      <td>0.169362</td>\n",
       "      <td>0.0</td>\n",
       "      <td>0.0</td>\n",
       "      <td>0.002365</td>\n",
       "    </tr>\n",
       "    <tr>\n",
       "      <th>1594672</th>\n",
       "      <td>27258</td>\n",
       "      <td>64</td>\n",
       "      <td>0.006661</td>\n",
       "      <td>0.149318</td>\n",
       "      <td>0.202088</td>\n",
       "      <td>0.0</td>\n",
       "      <td>0.0</td>\n",
       "      <td>0.006644</td>\n",
       "    </tr>\n",
       "  </tbody>\n",
       "</table>\n",
       "</div>"
      ],
      "text/plain": [
       "         acc_id  survival_time  amount_spent  playtime  npc_kill  fishing  \\\n",
       "1594668   27258             64      0.006661  0.151688  0.242910      0.0   \n",
       "1594669   27258             64      0.006661  0.149318  0.187243      0.0   \n",
       "1594670   27258             64      0.006661  0.007110  0.000000      0.0   \n",
       "1594671   27258             64      0.006661  0.158798  0.169362      0.0   \n",
       "1594672   27258             64      0.006661  0.149318  0.202088      0.0   \n",
       "\n",
       "         private_shop  game_money_change  \n",
       "1594668           0.0          -0.001794  \n",
       "1594669           0.0           0.000964  \n",
       "1594670           0.0          -0.000142  \n",
       "1594671           0.0           0.002365  \n",
       "1594672           0.0           0.006644  "
      ]
     },
     "execution_count": 11,
     "metadata": {},
     "output_type": "execute_result"
    }
   ],
   "source": [
    "act_lab_df.tail()"
   ]
  },
  {
   "cell_type": "code",
   "execution_count": 12,
   "metadata": {},
   "outputs": [],
   "source": [
    "data_points = act_lab_df.values"
   ]
  },
  {
   "cell_type": "code",
   "execution_count": 13,
   "metadata": {},
   "outputs": [],
   "source": [
    "kmeans = KMeans(n_clusters=3).fit(data_points)"
   ]
  },
  {
   "cell_type": "code",
   "execution_count": 14,
   "metadata": {},
   "outputs": [
    {
     "data": {
      "text/plain": [
       "array([2, 2, 2, ..., 2, 2, 2])"
      ]
     },
     "execution_count": 14,
     "metadata": {},
     "output_type": "execute_result"
    }
   ],
   "source": [
    "kmeans.labels_"
   ]
  },
  {
   "cell_type": "code",
   "execution_count": 15,
   "metadata": {},
   "outputs": [],
   "source": [
    "act_lab_df['cluster_id'] = kmeans.labels_"
   ]
  },
  {
   "cell_type": "code",
   "execution_count": 16,
   "metadata": {},
   "outputs": [
    {
     "data": {
      "text/html": [
       "<div>\n",
       "<style scoped>\n",
       "    .dataframe tbody tr th:only-of-type {\n",
       "        vertical-align: middle;\n",
       "    }\n",
       "\n",
       "    .dataframe tbody tr th {\n",
       "        vertical-align: top;\n",
       "    }\n",
       "\n",
       "    .dataframe thead th {\n",
       "        text-align: right;\n",
       "    }\n",
       "</style>\n",
       "<table border=\"1\" class=\"dataframe\">\n",
       "  <thead>\n",
       "    <tr style=\"text-align: right;\">\n",
       "      <th></th>\n",
       "      <th>acc_id</th>\n",
       "      <th>survival_time</th>\n",
       "      <th>amount_spent</th>\n",
       "      <th>playtime</th>\n",
       "      <th>npc_kill</th>\n",
       "      <th>fishing</th>\n",
       "      <th>private_shop</th>\n",
       "      <th>game_money_change</th>\n",
       "      <th>cluster_id</th>\n",
       "    </tr>\n",
       "  </thead>\n",
       "  <tbody>\n",
       "    <tr>\n",
       "      <th>1594668</th>\n",
       "      <td>27258</td>\n",
       "      <td>64</td>\n",
       "      <td>0.006661</td>\n",
       "      <td>0.151688</td>\n",
       "      <td>0.242910</td>\n",
       "      <td>0.0</td>\n",
       "      <td>0.0</td>\n",
       "      <td>-0.001794</td>\n",
       "      <td>2</td>\n",
       "    </tr>\n",
       "    <tr>\n",
       "      <th>1594669</th>\n",
       "      <td>27258</td>\n",
       "      <td>64</td>\n",
       "      <td>0.006661</td>\n",
       "      <td>0.149318</td>\n",
       "      <td>0.187243</td>\n",
       "      <td>0.0</td>\n",
       "      <td>0.0</td>\n",
       "      <td>0.000964</td>\n",
       "      <td>2</td>\n",
       "    </tr>\n",
       "    <tr>\n",
       "      <th>1594670</th>\n",
       "      <td>27258</td>\n",
       "      <td>64</td>\n",
       "      <td>0.006661</td>\n",
       "      <td>0.007110</td>\n",
       "      <td>0.000000</td>\n",
       "      <td>0.0</td>\n",
       "      <td>0.0</td>\n",
       "      <td>-0.000142</td>\n",
       "      <td>2</td>\n",
       "    </tr>\n",
       "    <tr>\n",
       "      <th>1594671</th>\n",
       "      <td>27258</td>\n",
       "      <td>64</td>\n",
       "      <td>0.006661</td>\n",
       "      <td>0.158798</td>\n",
       "      <td>0.169362</td>\n",
       "      <td>0.0</td>\n",
       "      <td>0.0</td>\n",
       "      <td>0.002365</td>\n",
       "      <td>2</td>\n",
       "    </tr>\n",
       "    <tr>\n",
       "      <th>1594672</th>\n",
       "      <td>27258</td>\n",
       "      <td>64</td>\n",
       "      <td>0.006661</td>\n",
       "      <td>0.149318</td>\n",
       "      <td>0.202088</td>\n",
       "      <td>0.0</td>\n",
       "      <td>0.0</td>\n",
       "      <td>0.006644</td>\n",
       "      <td>2</td>\n",
       "    </tr>\n",
       "  </tbody>\n",
       "</table>\n",
       "</div>"
      ],
      "text/plain": [
       "         acc_id  survival_time  amount_spent  playtime  npc_kill  fishing  \\\n",
       "1594668   27258             64      0.006661  0.151688  0.242910      0.0   \n",
       "1594669   27258             64      0.006661  0.149318  0.187243      0.0   \n",
       "1594670   27258             64      0.006661  0.007110  0.000000      0.0   \n",
       "1594671   27258             64      0.006661  0.158798  0.169362      0.0   \n",
       "1594672   27258             64      0.006661  0.149318  0.202088      0.0   \n",
       "\n",
       "         private_shop  game_money_change  cluster_id  \n",
       "1594668           0.0          -0.001794           2  \n",
       "1594669           0.0           0.000964           2  \n",
       "1594670           0.0          -0.000142           2  \n",
       "1594671           0.0           0.002365           2  \n",
       "1594672           0.0           0.006644           2  "
      ]
     },
     "execution_count": 16,
     "metadata": {},
     "output_type": "execute_result"
    }
   ],
   "source": [
    "act_lab_df.tail()"
   ]
  },
  {
   "cell_type": "code",
   "execution_count": 21,
   "metadata": {},
   "outputs": [],
   "source": [
    "act_lab_df2=act_lab_df[:100000]"
   ]
  },
  {
   "cell_type": "code",
   "execution_count": 22,
   "metadata": {},
   "outputs": [],
   "source": [
    "act_lab_df3=act_lab_df2[act_lab_df2['survival_time']<64]"
   ]
  },
  {
   "cell_type": "code",
   "execution_count": 25,
   "metadata": {},
   "outputs": [
    {
     "data": {
      "text/plain": [
       "<seaborn.axisgrid.FacetGrid at 0x14cb3ab0160>"
      ]
     },
     "execution_count": 25,
     "metadata": {},
     "output_type": "execute_result"
    },
    {
     "data": {
      "image/png": "[encoded data removed]",
      "text/plain": [
       "<Figure size 416.375x360 with 1 Axes>"
      ]
     },
     "metadata": {
      "needs_background": "light"
     },
     "output_type": "display_data"
    }
   ],
   "source": [
    "sns.lmplot('survival_time','playtime',data=act_lab_df3,fit_reg=False,scatter_kws={'s':3},\n",
    "          hue='cluster_id')"
   ]
  },
  {
   "cell_type": "code",
   "execution_count": null,
   "metadata": {},
   "outputs": [],
   "source": []
  }
 ],
 "metadata": {
  "kernelspec": {
   "display_name": "Python 3",
   "language": "python",
   "name": "python3"
  },
  "language_info": {
   "codemirror_mode": {
    "name": "ipython",
    "version": 3
   },
   "file_extension": ".py",
   "mimetype": "text/x-python",
   "name": "python",
   "nbconvert_exporter": "python",
   "pygments_lexer": "ipython3",
   "version": "3.7.3"
  }
 },
 "nbformat": 4,
 "nbformat_minor": 2
}
